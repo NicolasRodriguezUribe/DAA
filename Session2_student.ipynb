{
 "cells": [
  {
   "metadata": {},
   "cell_type": "markdown",
   "source": [
    "1.- Supón que, para un juego, tienes que calcular el desglose mínimo en billetes y monedas de una \n",
    "cantidad exacta de euros. Hay billetes de 500, 200, 100, 50, 20, 10 y 5 € y monedas de 2 y 1 €. Por \n",
    "ejemplo, deseamos conocer el desglose de 434 €"
   ],
   "id": "5c011f2fad2d872b"
  },
  {
   "metadata": {},
   "cell_type": "code",
   "outputs": [],
   "execution_count": null,
   "source": "#Exercise 1 - Solution",
   "id": "675459700bc3627f"
  },
  {
   "metadata": {},
   "cell_type": "markdown",
   "source": [
    "2.- El programa generará un número aleatorio entre 1 y N (puede ser de utilidad \n",
    "la función random del módulo random). El juego consiste en que el usuario debe adivinar el número, \n",
    "introduciendo por teclado una propuesta para el número y esperando la respuesta del programa, que \n",
    "le dirá si el número es mayor o menor que el que se ha de adivinar. El programa debe terminar cuando \n",
    "el usuario acierta el número."
   ],
   "id": "83ffbe3fed35cf6b"
  },
  {
   "metadata": {},
   "cell_type": "code",
   "outputs": [],
   "execution_count": null,
   "source": "#Exercise 2 - Solution",
   "id": "55ca4b79da1ae698"
  },
  {
   "metadata": {},
   "cell_type": "markdown",
   "source": "3.- Se le pide al usuario que ingrese la cantidad de cervezas que desea comprar y el precio de cada cerveza. El programa calcula el costo total. Además, si se compran más de 6 cervezas se aplica un descuento del 10%.",
   "id": "3137f1943929a57c"
  },
  {
   "metadata": {},
   "cell_type": "code",
   "outputs": [],
   "execution_count": null,
   "source": "#Exercise 3 - Solution",
   "id": "53c7e3e3ab8f8088"
  },
  {
   "metadata": {},
   "cell_type": "markdown",
   "source": [
    "4.- Escribir un programa que lea un número positivo y escriba el triángulo de Floyd hasta el número \n",
    "leído. "
   ],
   "id": "e6a744cbb11ebf26"
  },
  {
   "metadata": {},
   "cell_type": "code",
   "outputs": [],
   "execution_count": null,
   "source": "#Exercise 4 - Solution  - Floyd Triangle",
   "id": "2e035e34b6c37877"
  },
  {
   "metadata": {},
   "cell_type": "markdown",
   "source": "5.-Tienes una lista de cervezas con sus respectivas puntuaciones. El programa permite al usuario agregar puntuaciones para distintas cervezas, calcular el promedio de puntuaciones y mostrar la lista de cervezas ordenadas según su puntuación promedio.",
   "id": "e485c0952ca240cb"
  },
  {
   "metadata": {},
   "cell_type": "code",
   "outputs": [],
   "execution_count": null,
   "source": "#Exercise 5 - Solution",
   "id": "faa6e2d2b2cad14b"
  },
  {
   "metadata": {},
   "cell_type": "markdown",
   "source": [
    "6.- El juego del ahorcado consiste en que un jugador (A) debe adivinar la palabra pensada por el \n",
    "jugador (B). Para ello debemos utilizar dos cadenas de caracteres: en la primera se guardará la palabra \n",
    "que ha pensado el jugador (B), y la segunda se actualizará en cada turno para contemplar los aciertos \n",
    "del jugador (A). Esta segunda cadena debe inicializarse a una cadena de caracteres de la misma \n",
    "longitud que la primera pero rellena con caracteres como: ‘_’ ó ‘*’. El jugador (A) tiene una cantidad \n",
    "máxima de fallos permitidos (elegido por el programador). Se considera fallo preguntar por un \n",
    "carácter que no se encuentra en la palabra pensada por el jugador (B). El jugador (A) gana la partida \n",
    "cuando acierta la palabra sin consumir el total de fallos permitidos. El jugador (B) gana cuando el \n",
    "jugador (A) consume todos los fallos permitidos"
   ],
   "id": "5df172461315cbb"
  },
  {
   "metadata": {},
   "cell_type": "code",
   "outputs": [],
   "execution_count": null,
   "source": "#Exercise 6 - Solution",
   "id": "89e4362d4cd8c6c7"
  },
  {
   "metadata": {},
   "cell_type": "markdown",
   "source": [
    "7.- Crear de manera automática un tablero de damas donde las posiciones ocupadas inicialmente en \n",
    "una partida contengan el valor 1 para las fichas de un jugador y 2 para el otro. Las posiciones \n",
    "desocupadas contendrán el valor 0."
   ],
   "id": "186a34f9e1dc4c05"
  },
  {
   "metadata": {},
   "cell_type": "code",
   "outputs": [],
   "execution_count": null,
   "source": "#Exercise 7 - Solution",
   "id": "213dc1893701cffe"
  },
  {
   "metadata": {},
   "cell_type": "markdown",
   "source": [
    "8.- En ajedrez, una torre se puede mover desde la posición que ocupa, a cualquier casilla de su fila o \n",
    "columna, mientras que el alfil se mueve sobre el tablero en una línea recta diagonal, tal y como se \n",
    "muestra en la Fig. 2. Se pide realizar un programa que pida al usuario una ficha (torre o alfil) y el \n",
    "índice de fila y de columna que ocupa, e imprima por pantalla un tablero en la que se marquen las \n",
    "casillas a las que puede moverse la ficha"
   ],
   "id": "24dea4ff64193358"
  },
  {
   "metadata": {},
   "cell_type": "code",
   "outputs": [],
   "execution_count": null,
   "source": "#Exercise 8 - Solution",
   "id": "e58226c3d3f01945"
  },
  {
   "metadata": {},
   "cell_type": "markdown",
   "source": [
    "9.- Juego de las 4 en línea: El juego de las cuatro en línea se juega en una estructura vertical de 7 \n",
    "filas y 8 columnas en la que dos jugadores van colocando fichas en cada columna. Las fichas caen, \n",
    "por efecto de la gravedad, hasta que llegan al fondo de la estructura o hasta que descansan sobre otra \n",
    "ficha colocada antes. Se pide hacer un simulador de este juego en Python que permita jugar a dos \n",
    "jugadores y que compruebe tras cada jugada, si alguno ha hecho cuatro en raya. Para ello, es \n",
    "conveniente dividir el programa en diferentes subprogramas que se vayan encargando de cada una de \n",
    "las tareas necesarias"
   ],
   "id": "199cd2715b6fcb42"
  },
  {
   "metadata": {},
   "cell_type": "code",
   "outputs": [],
   "execution_count": null,
   "source": "#Exercise 9 - Solution",
   "id": "e6a88d6380a49ff2"
  },
  {
   "metadata": {},
   "cell_type": "markdown",
   "source": "",
   "id": "cc959e17d6badbce"
  },
  {
   "metadata": {},
   "cell_type": "markdown",
   "source": "10.- Se requiere un sistema de gestión de inventario de cervezas que permita al usuario agregar cervezas, eliminar una cerveza, actualizar la cantidad disponible y listar el inventario completo. Se utiliza programación orientada a objetos para modelar cada cerveza y el inventario.",
   "id": "42b9657f4d9eb445"
  },
  {
   "metadata": {},
   "cell_type": "code",
   "outputs": [],
   "execution_count": null,
   "source": "#Exercise 10 - Solution",
   "id": "274248210274c78"
  },
  {
   "metadata": {},
   "cell_type": "markdown",
   "source": "",
   "id": "ea6e5c3d0c6fe814"
  }
 ],
 "metadata": {
  "kernelspec": {
   "display_name": "Python 3",
   "language": "python",
   "name": "python3"
  },
  "language_info": {
   "codemirror_mode": {
    "name": "ipython",
    "version": 2
   },
   "file_extension": ".py",
   "mimetype": "text/x-python",
   "name": "python",
   "nbconvert_exporter": "python",
   "pygments_lexer": "ipython2",
   "version": "2.7.6"
  }
 },
 "nbformat": 4,
 "nbformat_minor": 5
}
